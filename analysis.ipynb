{
 "cells": [
  {
   "cell_type": "markdown",
   "id": "24ea998b-52c6-4f92-ba28-69da5dc551a1",
   "metadata": {},
   "source": [
    "# Analysing info about driver's licenses"
   ]
  },
  {
   "cell_type": "markdown",
   "id": "7624130b-6b91-4896-a2c7-67fe7bfcb60b",
   "metadata": {},
   "source": [
    "Hello, i am Iza and this is simple analysis i made to get used to working with data in Python. My aim is to answer some questions using data about newly granted driver licences in Poland."
   ]
  },
  {
   "cell_type": "markdown",
   "id": "f926839f-0d4c-446a-90a7-4c260e31e313",
   "metadata": {},
   "source": [
    "## About the data"
   ]
  },
  {
   "cell_type": "markdown",
   "id": "6d7ad0c7-d16b-4c8b-ae7c-1fdaf19515d2",
   "metadata": {},
   "source": [
    "Datasets come from dane.gov.pl website. They contain info about newly granted driver licenses in Poland in both 2022 and 2023. They contain month, age, sex and number of licenses granted. Unfortunately this dataset don't contain much information, but we can still do some interesting stuff with it!"
   ]
  },
  {
   "cell_type": "markdown",
   "id": "559c5b2a-5874-41f5-98c9-ff082115d24f",
   "metadata": {},
   "source": [
    "## Table of contents"
   ]
  },
  {
   "cell_type": "markdown",
   "id": "88220c1d",
   "metadata": {},
   "source": [
    "1. [Data load and setup](#1-data-load-and-setup)\n",
    "2. [In what months were the most driver's licenses granted? Are their numbers significantly higher in the summer?](#2-in-what-months-were-the-most-drivers-licenses-granted-are-their-numbers-significantly-higher-in-the-summer)\n",
    "3. Which voivodeships have the highest number of driving licenses obtained (per number of inhabitants)?\n",
    "4. What is the difference in the number of driving licenses obtained between men and women? Does age play a factor here?\n",
    "5. Which age groups get the most driving licenses?\n",
    "6. How did the number of driving licenses obtained changed between 2022 and 2023? Is the difference significant?\n",
    "7. Conclusion\n"
   ]
  },
  {
   "cell_type": "markdown",
   "id": "ffddd1c3",
   "metadata": {},
   "source": [
    "## 1. Data load and setup"
   ]
  },
  {
   "cell_type": "code",
   "execution_count": 62,
   "id": "ff7bf54d-f346-4b3f-9a52-711ff8b3f445",
   "metadata": {},
   "outputs": [],
   "source": [
    "import pandas as pd\n",
    "import matplotlib.pyplot as plt\n",
    "import matplotlib.ticker as ticker\n",
    "import os\n"
   ]
  },
  {
   "cell_type": "code",
   "execution_count": 63,
   "id": "c6cd3a19",
   "metadata": {},
   "outputs": [],
   "source": [
    "csv_files_22 = [f for f in os.listdir('2022') if f.endswith('.csv')] \n",
    "csv_files_23 = [f for f in os.listdir('2023') if f.endswith('.csv')]\n",
    "list1 = [] \n",
    "list2 = []\n",
    "\n",
    "for file in csv_files_22:\n",
    "    file_path = os.path.join('2022', file) \n",
    "    df = pd.read_csv(file_path, encoding='utf-8', sep='|')  \n",
    "    list1.append(df)\n",
    "\n",
    "for file in csv_files_23:\n",
    "    file_path = os.path.join('2023', file)  \n",
    "    df = pd.read_csv(file_path, encoding='utf-8', sep='|')  \n",
    "    list2.append(df)\n"
   ]
  },
  {
   "cell_type": "markdown",
   "id": "127fcceb",
   "metadata": {},
   "source": [
    "While working with this data i encountered peculiar problem. In files about march and november 2023 there is different separator and it caused problems (fixed it manually in csv's)"
   ]
  },
  {
   "cell_type": "code",
   "execution_count": 64,
   "id": "b1ab26bb",
   "metadata": {},
   "outputs": [],
   "source": [
    "# changing list to dataframe \n",
    "df_2022 = pd.concat(list1, ignore_index=True)\n",
    "df_2023 = pd.concat(list2, ignore_index=True)\n"
   ]
  },
  {
   "cell_type": "code",
   "execution_count": 65,
   "id": "2acaaaed",
   "metadata": {},
   "outputs": [
    {
     "data": {
      "text/html": [
       "<div>\n",
       "<style scoped>\n",
       "    .dataframe tbody tr th:only-of-type {\n",
       "        vertical-align: middle;\n",
       "    }\n",
       "\n",
       "    .dataframe tbody tr th {\n",
       "        vertical-align: top;\n",
       "    }\n",
       "\n",
       "    .dataframe thead th {\n",
       "        text-align: right;\n",
       "    }\n",
       "</style>\n",
       "<table border=\"1\" class=\"dataframe\">\n",
       "  <thead>\n",
       "    <tr style=\"text-align: right;\">\n",
       "      <th></th>\n",
       "      <th></th>\n",
       "      <th>VOIV_CODE</th>\n",
       "      <th>VOIVODESHIP</th>\n",
       "      <th>GENDER</th>\n",
       "      <th>AGE</th>\n",
       "      <th>NUMBER</th>\n",
       "    </tr>\n",
       "    <tr>\n",
       "      <th>YEAR</th>\n",
       "      <th>MONTH</th>\n",
       "      <th></th>\n",
       "      <th></th>\n",
       "      <th></th>\n",
       "      <th></th>\n",
       "      <th></th>\n",
       "    </tr>\n",
       "  </thead>\n",
       "  <tbody>\n",
       "    <tr>\n",
       "      <th rowspan=\"5\" valign=\"top\">2022</th>\n",
       "      <th>01</th>\n",
       "      <td>2</td>\n",
       "      <td>WOJ. DOLNOŚLĄSKIE</td>\n",
       "      <td>K</td>\n",
       "      <td>54</td>\n",
       "      <td>4</td>\n",
       "    </tr>\n",
       "    <tr>\n",
       "      <th>01</th>\n",
       "      <td>2</td>\n",
       "      <td>WOJ. DOLNOŚLĄSKIE</td>\n",
       "      <td>K</td>\n",
       "      <td>47</td>\n",
       "      <td>5</td>\n",
       "    </tr>\n",
       "    <tr>\n",
       "      <th>01</th>\n",
       "      <td>2</td>\n",
       "      <td>WOJ. DOLNOŚLĄSKIE</td>\n",
       "      <td>K</td>\n",
       "      <td>42</td>\n",
       "      <td>5</td>\n",
       "    </tr>\n",
       "    <tr>\n",
       "      <th>01</th>\n",
       "      <td>2</td>\n",
       "      <td>WOJ. DOLNOŚLĄSKIE</td>\n",
       "      <td>K</td>\n",
       "      <td>20</td>\n",
       "      <td>89</td>\n",
       "    </tr>\n",
       "    <tr>\n",
       "      <th>01</th>\n",
       "      <td>2</td>\n",
       "      <td>WOJ. DOLNOŚLĄSKIE</td>\n",
       "      <td>K</td>\n",
       "      <td>29</td>\n",
       "      <td>22</td>\n",
       "    </tr>\n",
       "    <tr>\n",
       "      <th>...</th>\n",
       "      <th>...</th>\n",
       "      <td>...</td>\n",
       "      <td>...</td>\n",
       "      <td>...</td>\n",
       "      <td>...</td>\n",
       "      <td>...</td>\n",
       "    </tr>\n",
       "    <tr>\n",
       "      <th rowspan=\"5\" valign=\"top\">2023</th>\n",
       "      <th>12</th>\n",
       "      <td>32</td>\n",
       "      <td>WOJ. ZACHODNIOPOMORSKIE</td>\n",
       "      <td>M</td>\n",
       "      <td>18</td>\n",
       "      <td>275</td>\n",
       "    </tr>\n",
       "    <tr>\n",
       "      <th>12</th>\n",
       "      <td>32</td>\n",
       "      <td>WOJ. ZACHODNIOPOMORSKIE</td>\n",
       "      <td>M</td>\n",
       "      <td>20</td>\n",
       "      <td>20</td>\n",
       "    </tr>\n",
       "    <tr>\n",
       "      <th>12</th>\n",
       "      <td>32</td>\n",
       "      <td>WOJ. ZACHODNIOPOMORSKIE</td>\n",
       "      <td>M</td>\n",
       "      <td>19</td>\n",
       "      <td>51</td>\n",
       "    </tr>\n",
       "    <tr>\n",
       "      <th>12</th>\n",
       "      <td>32</td>\n",
       "      <td>WOJ. ZACHODNIOPOMORSKIE</td>\n",
       "      <td>M</td>\n",
       "      <td>41</td>\n",
       "      <td>3</td>\n",
       "    </tr>\n",
       "    <tr>\n",
       "      <th>12</th>\n",
       "      <td>32</td>\n",
       "      <td>WOJ. ZACHODNIOPOMORSKIE</td>\n",
       "      <td>M</td>\n",
       "      <td>43</td>\n",
       "      <td>4</td>\n",
       "    </tr>\n",
       "  </tbody>\n",
       "</table>\n",
       "<p>30592 rows × 5 columns</p>\n",
       "</div>"
      ],
      "text/plain": [
       "            VOIV_CODE              VOIVODESHIP GENDER  AGE  NUMBER\n",
       "YEAR MONTH                                                        \n",
       "2022 01             2        WOJ. DOLNOŚLĄSKIE      K   54       4\n",
       "     01             2        WOJ. DOLNOŚLĄSKIE      K   47       5\n",
       "     01             2        WOJ. DOLNOŚLĄSKIE      K   42       5\n",
       "     01             2        WOJ. DOLNOŚLĄSKIE      K   20      89\n",
       "     01             2        WOJ. DOLNOŚLĄSKIE      K   29      22\n",
       "...               ...                      ...    ...  ...     ...\n",
       "2023 12            32  WOJ. ZACHODNIOPOMORSKIE      M   18     275\n",
       "     12            32  WOJ. ZACHODNIOPOMORSKIE      M   20      20\n",
       "     12            32  WOJ. ZACHODNIOPOMORSKIE      M   19      51\n",
       "     12            32  WOJ. ZACHODNIOPOMORSKIE      M   41       3\n",
       "     12            32  WOJ. ZACHODNIOPOMORSKIE      M   43       4\n",
       "\n",
       "[30592 rows x 5 columns]"
      ]
     },
     "execution_count": 65,
     "metadata": {},
     "output_type": "execute_result"
    }
   ],
   "source": [
    "df = pd.concat([df_2022, df_2023], ignore_index=True)\n",
    "df[['YEAR', 'MONTH']] = df['DATA_MC'].str.split('-', expand=True)\n",
    "df.set_index(['YEAR', 'MONTH'], inplace=True)\n",
    "df.drop(columns='DATA_MC', inplace=True)\n",
    "# translating polish columns\n",
    "df.rename(columns={'KOD_WOJ' : 'VOIV_CODE', 'WOJEWODZTWO' : 'VOIVODESHIP', 'PLEC' : 'GENDER', 'WIEK' : 'AGE', 'LICZBA' : 'NUMBER'}, inplace=True)\n",
    "df"
   ]
  },
  {
   "cell_type": "markdown",
   "id": "7c280c67",
   "metadata": {},
   "source": [
    "As we can see data is fairly simple, but nevertheless we can answer some questions with it :)"
   ]
  },
  {
   "cell_type": "markdown",
   "id": "2df6dc9e",
   "metadata": {},
   "source": [
    "## 2. In what months were the most driver's licenses granted? Are their numbers significantly higher in the summer?"
   ]
  },
  {
   "cell_type": "code",
   "execution_count": 66,
   "id": "132b8531",
   "metadata": {},
   "outputs": [
    {
     "data": {
      "text/html": [
       "<div>\n",
       "<style scoped>\n",
       "    .dataframe tbody tr th:only-of-type {\n",
       "        vertical-align: middle;\n",
       "    }\n",
       "\n",
       "    .dataframe tbody tr th {\n",
       "        vertical-align: top;\n",
       "    }\n",
       "\n",
       "    .dataframe thead th {\n",
       "        text-align: right;\n",
       "    }\n",
       "</style>\n",
       "<table border=\"1\" class=\"dataframe\">\n",
       "  <thead>\n",
       "    <tr style=\"text-align: right;\">\n",
       "      <th></th>\n",
       "      <th></th>\n",
       "      <th>NUMBER</th>\n",
       "    </tr>\n",
       "    <tr>\n",
       "      <th>YEAR</th>\n",
       "      <th>MONTH</th>\n",
       "      <th></th>\n",
       "    </tr>\n",
       "  </thead>\n",
       "  <tbody>\n",
       "    <tr>\n",
       "      <th rowspan=\"12\" valign=\"top\">2022</th>\n",
       "      <th>01</th>\n",
       "      <td>27012</td>\n",
       "    </tr>\n",
       "    <tr>\n",
       "      <th>02</th>\n",
       "      <td>27907</td>\n",
       "    </tr>\n",
       "    <tr>\n",
       "      <th>03</th>\n",
       "      <td>32601</td>\n",
       "    </tr>\n",
       "    <tr>\n",
       "      <th>04</th>\n",
       "      <td>26385</td>\n",
       "    </tr>\n",
       "    <tr>\n",
       "      <th>05</th>\n",
       "      <td>26505</td>\n",
       "    </tr>\n",
       "    <tr>\n",
       "      <th>06</th>\n",
       "      <td>26473</td>\n",
       "    </tr>\n",
       "    <tr>\n",
       "      <th>07</th>\n",
       "      <td>24892</td>\n",
       "    </tr>\n",
       "    <tr>\n",
       "      <th>08</th>\n",
       "      <td>25230</td>\n",
       "    </tr>\n",
       "    <tr>\n",
       "      <th>09</th>\n",
       "      <td>27334</td>\n",
       "    </tr>\n",
       "    <tr>\n",
       "      <th>10</th>\n",
       "      <td>29929</td>\n",
       "    </tr>\n",
       "    <tr>\n",
       "      <th>11</th>\n",
       "      <td>29504</td>\n",
       "    </tr>\n",
       "    <tr>\n",
       "      <th>12</th>\n",
       "      <td>26791</td>\n",
       "    </tr>\n",
       "    <tr>\n",
       "      <th rowspan=\"12\" valign=\"top\">2023</th>\n",
       "      <th>01</th>\n",
       "      <td>28385</td>\n",
       "    </tr>\n",
       "    <tr>\n",
       "      <th>02</th>\n",
       "      <td>26273</td>\n",
       "    </tr>\n",
       "    <tr>\n",
       "      <th>03</th>\n",
       "      <td>30403</td>\n",
       "    </tr>\n",
       "    <tr>\n",
       "      <th>04</th>\n",
       "      <td>24373</td>\n",
       "    </tr>\n",
       "    <tr>\n",
       "      <th>05</th>\n",
       "      <td>23823</td>\n",
       "    </tr>\n",
       "    <tr>\n",
       "      <th>06</th>\n",
       "      <td>24521</td>\n",
       "    </tr>\n",
       "    <tr>\n",
       "      <th>07</th>\n",
       "      <td>24700</td>\n",
       "    </tr>\n",
       "    <tr>\n",
       "      <th>08</th>\n",
       "      <td>24294</td>\n",
       "    </tr>\n",
       "    <tr>\n",
       "      <th>09</th>\n",
       "      <td>20476</td>\n",
       "    </tr>\n",
       "    <tr>\n",
       "      <th>10</th>\n",
       "      <td>24462</td>\n",
       "    </tr>\n",
       "    <tr>\n",
       "      <th>11</th>\n",
       "      <td>19605</td>\n",
       "    </tr>\n",
       "    <tr>\n",
       "      <th>12</th>\n",
       "      <td>25005</td>\n",
       "    </tr>\n",
       "  </tbody>\n",
       "</table>\n",
       "</div>"
      ],
      "text/plain": [
       "            NUMBER\n",
       "YEAR MONTH        \n",
       "2022 01      27012\n",
       "     02      27907\n",
       "     03      32601\n",
       "     04      26385\n",
       "     05      26505\n",
       "     06      26473\n",
       "     07      24892\n",
       "     08      25230\n",
       "     09      27334\n",
       "     10      29929\n",
       "     11      29504\n",
       "     12      26791\n",
       "2023 01      28385\n",
       "     02      26273\n",
       "     03      30403\n",
       "     04      24373\n",
       "     05      23823\n",
       "     06      24521\n",
       "     07      24700\n",
       "     08      24294\n",
       "     09      20476\n",
       "     10      24462\n",
       "     11      19605\n",
       "     12      25005"
      ]
     },
     "execution_count": 66,
     "metadata": {},
     "output_type": "execute_result"
    }
   ],
   "source": [
    "num_months = df.groupby(['YEAR', 'MONTH'])['NUMBER'].sum().to_frame()\n",
    "num_months\n"
   ]
  },
  {
   "cell_type": "markdown",
   "id": "0fb40045",
   "metadata": {},
   "source": [
    "At a first glance those numbers do not differ significantly. Let's see it on a chart to analyze better!"
   ]
  },
  {
   "cell_type": "code",
   "execution_count": 67,
   "id": "3f28bbf4",
   "metadata": {},
   "outputs": [
    {
     "data": {
      "image/png": "[encoded data removed]",
      "text/plain": [
       "<Figure size 640x480 with 1 Axes>"
      ]
     },
     "metadata": {},
     "output_type": "display_data"
    }
   ],
   "source": [
    "#resreting index for easier plotting \n",
    "num_months.reset_index(inplace=True)\n",
    "\n",
    "for year in num_months['YEAR'].unique():\n",
    "    subset = num_months[num_months['YEAR'] == year]\n",
    "    plt.plot(subset['MONTH'], subset['NUMBER'], label=year)\n",
    "    \n",
    "plt.legend()\n",
    "plt.title('Number of licenses per month')\n",
    "plt.xlabel('Month')\n",
    "plt.ylabel('Number')\n",
    "plt.grid(axis='y')\n",
    "plt.gca().yaxis.set_major_formatter(ticker.FuncFormatter(lambda x, pos: f'{x:,.0f}'))\n",
    "plt.show()\n",
    "\n"
   ]
  },
  {
   "cell_type": "markdown",
   "id": "1d6aab85",
   "metadata": {},
   "source": [
    "Thanks to the chart, we can draw unexpected conclusions:\n",
    "- the number of driver's licenses granted is quite significantly higher in 2022 than in 2023\n",
    "- the month in which the most driver's licenses were granted is surprisingly March, and this is true in both 22 and 23. The high number is also in October\n",
    "- in 2022 the least number of driver's licenses were granted during the vacation season, and in 2023 in November and September. \n",
    "\n",
    "All in all, it might be a good idea to book your exam for March! \n"
   ]
  },
  {
   "cell_type": "markdown",
   "id": "c790c1ca",
   "metadata": {},
   "source": []
  }
 ],
 "metadata": {
  "kernelspec": {
   "display_name": "base",
   "language": "python",
   "name": "python3"
  },
  "language_info": {
   "codemirror_mode": {
    "name": "ipython",
    "version": 3
   },
   "file_extension": ".py",
   "mimetype": "text/x-python",
   "name": "python",
   "nbconvert_exporter": "python",
   "pygments_lexer": "ipython3",
   "version": "3.11.5"
  }
 },
 "nbformat": 4,
 "nbformat_minor": 5
}
