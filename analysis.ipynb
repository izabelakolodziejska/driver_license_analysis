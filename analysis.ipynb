{
 "cells": [
  {
   "cell_type": "markdown",
   "id": "24ea998b-52c6-4f92-ba28-69da5dc551a1",
   "metadata": {},
   "source": [
    "# Analysing info about driver's licenses"
   ]
  },
  {
   "cell_type": "markdown",
   "id": "7624130b-6b91-4896-a2c7-67fe7bfcb60b",
   "metadata": {},
   "source": [
    "Hello, i am Iza and this is simple analysis i made to get used to working with data in Python. My aim is to answer some questions using data about newly granted driver licences in Poland."
   ]
  },
  {
   "cell_type": "markdown",
   "id": "f926839f-0d4c-446a-90a7-4c260e31e313",
   "metadata": {},
   "source": [
    "## About the data"
   ]
  },
  {
   "cell_type": "markdown",
   "id": "6d7ad0c7-d16b-4c8b-ae7c-1fdaf19515d2",
   "metadata": {},
   "source": [
    "Datasets come from dane.gov.pl website. They contain info about newly granted driver licenses in Poland in both 2022 and 2023. They contain month, age, sex and number of licenses granted. Unfortunately this dataset don't contain much information, but we can still do some interesting stuff with it!"
   ]
  },
  {
   "cell_type": "markdown",
   "id": "559c5b2a-5874-41f5-98c9-ff082115d24f",
   "metadata": {},
   "source": [
    "## Table of contents"
   ]
  },
  {
   "cell_type": "markdown",
   "id": "88220c1d",
   "metadata": {},
   "source": [
    "1. [Data load and setup](#1-data-load-and-setup)\n",
    "2. In what months were the most driver's licenses granted? Are their numbers significantly higher in the summer?\n",
    "3. Which voivodeships have the highest number of driving licenses obtained (per number of inhabitants)?\n",
    "4. What is the difference in the number of driving licenses obtained between men and women? Does age play a factor here?\n",
    "5. Which age groups get the most driving licenses?\n",
    "6. How did the number of driving licenses obtained changed between 2022 and 2023? Is the difference significant?\n",
    "7. Conclusion\n"
   ]
  },
  {
   "cell_type": "markdown",
   "id": "ffddd1c3",
   "metadata": {},
   "source": [
    "## 1. Data load and setup"
   ]
  },
  {
   "cell_type": "code",
   "execution_count": 55,
   "id": "ff7bf54d-f346-4b3f-9a52-711ff8b3f445",
   "metadata": {},
   "outputs": [],
   "source": [
    "import pandas as pd\n",
    "import matplotlib.pyplot as plt\n",
    "import os\n"
   ]
  },
  {
   "cell_type": "code",
   "execution_count": 58,
   "id": "c6cd3a19",
   "metadata": {},
   "outputs": [],
   "source": [
    "csv_files_22 = [f for f in os.listdir('2022') if f.endswith('.csv')] \n",
    "csv_files_23 = [f for f in os.listdir('2023') if f.endswith('.csv')]\n",
    "list1 = [] \n",
    "list2 = []\n",
    "\n",
    "for file in csv_files_22:\n",
    "    file_path = os.path.join('2022', file) \n",
    "    df = pd.read_csv(file_path, encoding='utf-8', sep='|')  \n",
    "    list1.append(df)\n",
    "\n",
    "for file in csv_files_23:\n",
    "    file_path = os.path.join('2023', file)  \n",
    "    df = pd.read_csv(file_path, encoding='utf-8', sep='|')  \n",
    "    list2.append(df)\n"
   ]
  },
  {
   "cell_type": "markdown",
   "id": "127fcceb",
   "metadata": {},
   "source": [
    "While working with this data i encountered peculiar problem. In files about march and november 2023 there is different separator and it caused problems. "
   ]
  },
  {
   "cell_type": "code",
   "execution_count": 59,
   "id": "b1ab26bb",
   "metadata": {},
   "outputs": [],
   "source": [
    "df_2022 = pd.concat(list1, ignore_index=True)\n",
    "df_2023 = pd.concat(list2, ignore_index=True)\n"
   ]
  },
  {
   "cell_type": "code",
   "execution_count": 60,
   "id": "3743f126",
   "metadata": {},
   "outputs": [
    {
     "data": {
      "text/html": [
       "<div>\n",
       "<style scoped>\n",
       "    .dataframe tbody tr th:only-of-type {\n",
       "        vertical-align: middle;\n",
       "    }\n",
       "\n",
       "    .dataframe tbody tr th {\n",
       "        vertical-align: top;\n",
       "    }\n",
       "\n",
       "    .dataframe thead th {\n",
       "        text-align: right;\n",
       "    }\n",
       "</style>\n",
       "<table border=\"1\" class=\"dataframe\">\n",
       "  <thead>\n",
       "    <tr style=\"text-align: right;\">\n",
       "      <th></th>\n",
       "      <th>DATA_MC</th>\n",
       "      <th>KOD_WOJ</th>\n",
       "      <th>WOJEWODZTWO</th>\n",
       "      <th>PLEC</th>\n",
       "      <th>WIEK</th>\n",
       "      <th>LICZBA</th>\n",
       "    </tr>\n",
       "  </thead>\n",
       "  <tbody>\n",
       "    <tr>\n",
       "      <th>0</th>\n",
       "      <td>2022-01</td>\n",
       "      <td>2</td>\n",
       "      <td>WOJ. DOLNOŚLĄSKIE</td>\n",
       "      <td>K</td>\n",
       "      <td>54</td>\n",
       "      <td>4</td>\n",
       "    </tr>\n",
       "    <tr>\n",
       "      <th>1</th>\n",
       "      <td>2022-01</td>\n",
       "      <td>2</td>\n",
       "      <td>WOJ. DOLNOŚLĄSKIE</td>\n",
       "      <td>K</td>\n",
       "      <td>47</td>\n",
       "      <td>5</td>\n",
       "    </tr>\n",
       "    <tr>\n",
       "      <th>2</th>\n",
       "      <td>2022-01</td>\n",
       "      <td>2</td>\n",
       "      <td>WOJ. DOLNOŚLĄSKIE</td>\n",
       "      <td>K</td>\n",
       "      <td>42</td>\n",
       "      <td>5</td>\n",
       "    </tr>\n",
       "    <tr>\n",
       "      <th>3</th>\n",
       "      <td>2022-01</td>\n",
       "      <td>2</td>\n",
       "      <td>WOJ. DOLNOŚLĄSKIE</td>\n",
       "      <td>K</td>\n",
       "      <td>20</td>\n",
       "      <td>89</td>\n",
       "    </tr>\n",
       "    <tr>\n",
       "      <th>4</th>\n",
       "      <td>2022-01</td>\n",
       "      <td>2</td>\n",
       "      <td>WOJ. DOLNOŚLĄSKIE</td>\n",
       "      <td>K</td>\n",
       "      <td>29</td>\n",
       "      <td>22</td>\n",
       "    </tr>\n",
       "  </tbody>\n",
       "</table>\n",
       "</div>"
      ],
      "text/plain": [
       "   DATA_MC  KOD_WOJ        WOJEWODZTWO PLEC  WIEK  LICZBA\n",
       "0  2022-01        2  WOJ. DOLNOŚLĄSKIE    K    54       4\n",
       "1  2022-01        2  WOJ. DOLNOŚLĄSKIE    K    47       5\n",
       "2  2022-01        2  WOJ. DOLNOŚLĄSKIE    K    42       5\n",
       "3  2022-01        2  WOJ. DOLNOŚLĄSKIE    K    20      89\n",
       "4  2022-01        2  WOJ. DOLNOŚLĄSKIE    K    29      22"
      ]
     },
     "execution_count": 60,
     "metadata": {},
     "output_type": "execute_result"
    }
   ],
   "source": [
    "df_2022.head()"
   ]
  },
  {
   "cell_type": "code",
   "execution_count": 61,
   "id": "332fa2c8",
   "metadata": {},
   "outputs": [
    {
     "data": {
      "text/html": [
       "<div>\n",
       "<style scoped>\n",
       "    .dataframe tbody tr th:only-of-type {\n",
       "        vertical-align: middle;\n",
       "    }\n",
       "\n",
       "    .dataframe tbody tr th {\n",
       "        vertical-align: top;\n",
       "    }\n",
       "\n",
       "    .dataframe thead th {\n",
       "        text-align: right;\n",
       "    }\n",
       "</style>\n",
       "<table border=\"1\" class=\"dataframe\">\n",
       "  <thead>\n",
       "    <tr style=\"text-align: right;\">\n",
       "      <th></th>\n",
       "      <th>DATA_MC</th>\n",
       "      <th>KOD_WOJ</th>\n",
       "      <th>WOJEWODZTWO</th>\n",
       "      <th>PLEC</th>\n",
       "      <th>WIEK</th>\n",
       "      <th>LICZBA</th>\n",
       "      <th>DATA_MC,KOD_WOJ,WOJEWODZTWO,PLEC,WIEK,LICZBA</th>\n",
       "    </tr>\n",
       "  </thead>\n",
       "  <tbody>\n",
       "    <tr>\n",
       "      <th>0</th>\n",
       "      <td>2023-01</td>\n",
       "      <td>2</td>\n",
       "      <td>WOJ. DOLNOŚLĄSKIE</td>\n",
       "      <td>K</td>\n",
       "      <td>21.0</td>\n",
       "      <td>45.0</td>\n",
       "      <td>NaN</td>\n",
       "    </tr>\n",
       "    <tr>\n",
       "      <th>1</th>\n",
       "      <td>2023-01</td>\n",
       "      <td>2</td>\n",
       "      <td>WOJ. DOLNOŚLĄSKIE</td>\n",
       "      <td>K</td>\n",
       "      <td>63.0</td>\n",
       "      <td>1.0</td>\n",
       "      <td>NaN</td>\n",
       "    </tr>\n",
       "    <tr>\n",
       "      <th>2</th>\n",
       "      <td>2023-01</td>\n",
       "      <td>2</td>\n",
       "      <td>WOJ. DOLNOŚLĄSKIE</td>\n",
       "      <td>K</td>\n",
       "      <td>49.0</td>\n",
       "      <td>5.0</td>\n",
       "      <td>NaN</td>\n",
       "    </tr>\n",
       "    <tr>\n",
       "      <th>3</th>\n",
       "      <td>2023-01</td>\n",
       "      <td>2</td>\n",
       "      <td>WOJ. DOLNOŚLĄSKIE</td>\n",
       "      <td>K</td>\n",
       "      <td>41.0</td>\n",
       "      <td>4.0</td>\n",
       "      <td>NaN</td>\n",
       "    </tr>\n",
       "    <tr>\n",
       "      <th>4</th>\n",
       "      <td>2023-01</td>\n",
       "      <td>2</td>\n",
       "      <td>WOJ. DOLNOŚLĄSKIE</td>\n",
       "      <td>K</td>\n",
       "      <td>56.0</td>\n",
       "      <td>1.0</td>\n",
       "      <td>NaN</td>\n",
       "    </tr>\n",
       "  </tbody>\n",
       "</table>\n",
       "</div>"
      ],
      "text/plain": [
       "   DATA_MC KOD_WOJ        WOJEWODZTWO PLEC  WIEK  LICZBA  \\\n",
       "0  2023-01       2  WOJ. DOLNOŚLĄSKIE    K  21.0    45.0   \n",
       "1  2023-01       2  WOJ. DOLNOŚLĄSKIE    K  63.0     1.0   \n",
       "2  2023-01       2  WOJ. DOLNOŚLĄSKIE    K  49.0     5.0   \n",
       "3  2023-01       2  WOJ. DOLNOŚLĄSKIE    K  41.0     4.0   \n",
       "4  2023-01       2  WOJ. DOLNOŚLĄSKIE    K  56.0     1.0   \n",
       "\n",
       "  DATA_MC,KOD_WOJ,WOJEWODZTWO,PLEC,WIEK,LICZBA  \n",
       "0                                          NaN  \n",
       "1                                          NaN  \n",
       "2                                          NaN  \n",
       "3                                          NaN  \n",
       "4                                          NaN  "
      ]
     },
     "execution_count": 61,
     "metadata": {},
     "output_type": "execute_result"
    }
   ],
   "source": [
    "df_2023.head()"
   ]
  },
  {
   "cell_type": "code",
   "execution_count": null,
   "id": "1b69b0f0",
   "metadata": {},
   "outputs": [],
   "source": []
  }
 ],
 "metadata": {
  "kernelspec": {
   "display_name": "base",
   "language": "python",
   "name": "python3"
  },
  "language_info": {
   "codemirror_mode": {
    "name": "ipython",
    "version": 3
   },
   "file_extension": ".py",
   "mimetype": "text/x-python",
   "name": "python",
   "nbconvert_exporter": "python",
   "pygments_lexer": "ipython3",
   "version": "3.11.5"
  }
 },
 "nbformat": 4,
 "nbformat_minor": 5
}
