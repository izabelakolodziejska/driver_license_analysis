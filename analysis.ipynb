{
 "cells": [
  {
   "cell_type": "markdown",
   "id": "24ea998b-52c6-4f92-ba28-69da5dc551a1",
   "metadata": {},
   "source": [
    "# Analysing info about driver's licenses"
   ]
  },
  {
   "cell_type": "markdown",
   "id": "7624130b-6b91-4896-a2c7-67fe7bfcb60b",
   "metadata": {},
   "source": [
    "Can the number of newly granted driving licenses differ significantly in one year from the previous one? Who gets a driving license more often, men or women? What about their age? These questions and more are a subject of this little project. "
   ]
  },
  {
   "cell_type": "markdown",
   "id": "559c5b2a-5874-41f5-98c9-ff082115d24f",
   "metadata": {},
   "source": [
    "## Key questions about the data"
   ]
  },
  {
   "cell_type": "markdown",
   "id": "f926839f-0d4c-446a-90a7-4c260e31e313",
   "metadata": {},
   "source": [
    "## About the data"
   ]
  },
  {
   "cell_type": "markdown",
   "id": "6d7ad0c7-d16b-4c8b-ae7c-1fdaf19515d2",
   "metadata": {},
   "source": [
    "Datasets come from dane.gov.pl website. They contain info about newly granted driver licenses in Poland. There are four separate datasets - they contain info about January and February for both 2024 and 2023. I used only these two months because at the time of writing, newer data is not available. However the analysis could be fairly easy widened into more months using older datasets.  <br>\n",
    "Let's take a quick look at the data"
   ]
  },
  {
   "cell_type": "code",
   "execution_count": 1,
   "id": "ff7bf54d-f346-4b3f-9a52-711ff8b3f445",
   "metadata": {},
   "outputs": [],
   "source": [
    "import pandas as pd\n",
    "import matplotlib.pyplot as plt\n"
   ]
  }
 ],
 "metadata": {
  "kernelspec": {
   "display_name": "Python 3 (ipykernel)",
   "language": "python",
   "name": "python3"
  },
  "language_info": {
   "codemirror_mode": {
    "name": "ipython",
    "version": 3
   },
   "file_extension": ".py",
   "mimetype": "text/x-python",
   "name": "python",
   "nbconvert_exporter": "python",
   "pygments_lexer": "ipython3",
   "version": "3.11.7"
  }
 },
 "nbformat": 4,
 "nbformat_minor": 5
}
